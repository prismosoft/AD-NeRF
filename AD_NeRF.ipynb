{
  "nbformat": 4,
  "nbformat_minor": 0,
  "metadata": {
    "colab": {
      "provenance": [],
      "collapsed_sections": [],
      "machine_shape": "hm",
      "mount_file_id": "1L6kVDKQV-W53vYWXof_-gQFu3fifkbIt",
      "authorship_tag": "ABX9TyPbBBUvSe6XadHh91tP2g8o",
      "include_colab_link": true
    },
    "kernelspec": {
      "name": "python3",
      "display_name": "Python 3"
    },
    "language_info": {
      "name": "python"
    },
    "accelerator": "GPU",
    "gpuClass": "standard"
  },
  "cells": [
    {
      "cell_type": "markdown",
      "metadata": {
        "id": "view-in-github",
        "colab_type": "text"
      },
      "source": [
        "<a href=\"https://colab.research.google.com/github/prismosoft/AD-NeRF/blob/master/AD_NeRF.ipynb\" target=\"_parent\"><img src=\"https://colab.research.google.com/assets/colab-badge.svg\" alt=\"Open In Colab\"/></a>"
      ]
    },
    {
      "cell_type": "code",
      "source": [
        "%cd /content/\n",
        "!wget -O mini.sh https://repo.anaconda.com/miniconda/Miniconda3-py37_4.12.0-Linux-x86_64.sh\n",
        "!chmod +x mini.sh\n",
        "!bash ./mini.sh -b -f -p /usr/local\n",
        "!conda install -q -y jupyter\n",
        "!conda install -q -y google-colab -c conda-forge\n",
        "!python -m ipykernel install --name \"py37\" --user"
      ],
      "metadata": {
        "id": "_EBL8JLuFtMR"
      },
      "execution_count": null,
      "outputs": []
    },
    {
      "cell_type": "code",
      "source": [
        "!conda update -n base -c defaults conda\n",
        "!python --version\n",
        "!conda --version\n",
        "!which conda"
      ],
      "metadata": {
        "id": "h7yN6h0OGvvv"
      },
      "execution_count": null,
      "outputs": []
    },
    {
      "cell_type": "code",
      "source": [
        "%cd /content/\n",
        "!rm -rf ./AD-NeRF\n",
        "!git clone https://github.com/prismosoft/AD-NeRF.git"
      ],
      "metadata": {
        "id": "ni77wZbYqeAv",
        "colab": {
          "base_uri": "https://localhost:8080/"
        },
        "outputId": "6d10cff4-82fa-4550-cef6-a867ff024f43"
      },
      "execution_count": 3,
      "outputs": [
        {
          "output_type": "stream",
          "name": "stdout",
          "text": [
            "/content\n",
            "Cloning into 'AD-NeRF'...\n",
            "remote: Enumerating objects: 205, done.\u001b[K\n",
            "remote: Counting objects: 100% (34/34), done.\u001b[K\n",
            "remote: Compressing objects: 100% (30/30), done.\u001b[K\n",
            "remote: Total 205 (delta 6), reused 23 (delta 2), pack-reused 171\u001b[K\n",
            "Receiving objects: 100% (205/205), 204.57 MiB | 17.18 MiB/s, done.\n",
            "Resolving deltas: 100% (77/77), done.\n",
            "Checking out files: 100% (69/69), done.\n"
          ]
        }
      ]
    },
    {
      "cell_type": "code",
      "source": [
        "!conda init bash\n",
        "exit\n",
        "# RESTART SHELL"
      ],
      "metadata": {
        "colab": {
          "base_uri": "https://localhost:8080/"
        },
        "id": "O4GzyzDe67nA",
        "outputId": "e14fa459-d623-4be2-9a12-2be440b79948"
      },
      "execution_count": 4,
      "outputs": [
        {
          "output_type": "stream",
          "name": "stdout",
          "text": [
            "no change     /usr/local/condabin/conda\n",
            "no change     /usr/local/bin/conda\n",
            "no change     /usr/local/bin/conda-env\n",
            "no change     /usr/local/bin/activate\n",
            "no change     /usr/local/bin/deactivate\n",
            "no change     /usr/local/etc/profile.d/conda.sh\n",
            "no change     /usr/local/etc/fish/conf.d/conda.fish\n",
            "no change     /usr/local/shell/condabin/Conda.psm1\n",
            "no change     /usr/local/shell/condabin/conda-hook.ps1\n",
            "no change     /usr/local/lib/python3.7/site-packages/xontrib/conda.xsh\n",
            "no change     /usr/local/etc/profile.d/conda.csh\n",
            "modified      /root/.bashrc\n",
            "\n",
            "==> For changes to take effect, close and re-open your current shell. <==\n",
            "\n"
          ]
        },
        {
          "output_type": "execute_result",
          "data": {
            "text/plain": [
              "<IPython.core.autocall.ZMQExitAutocall at 0x7fe057e5e690>"
            ]
          },
          "metadata": {},
          "execution_count": 4
        }
      ]
    },
    {
      "cell_type": "code",
      "source": [
        "%cd /content/AD-NeRF/\n",
        "!conda env create -f environment.yml"
      ],
      "metadata": {
        "id": "hQ5dNIvb6y_v",
        "colab": {
          "base_uri": "https://localhost:8080/"
        },
        "outputId": "e3f77a25-f493-4dbb-9249-9ef2a36d75c9"
      },
      "execution_count": 5,
      "outputs": [
        {
          "output_type": "stream",
          "name": "stdout",
          "text": [
            "/content/AD-NeRF\n",
            "Collecting package metadata (repodata.json): - \b\b\\ \b\b| \b\b/ \b\b- \b\b\\ \b\b| \b\b/ \b\b- \b\b\\ \b\b| \b\b/ \b\b- \b\b\\ \b\b| \b\b/ \b\b- \b\b\\ \b\b| \b\b/ \b\b- \b\b\\ \b\b| \b\b/ \b\b- \b\b\\ \b\b| \b\b/ \b\b- \b\b\\ \b\b| \b\b/ \b\b- \b\b\\ \b\b| \b\b/ \b\b- \b\b\\ \b\b| \b\b/ \b\b- \b\b\\ \b\b| \b\b/ \b\b- \b\b\\ \b\b| \b\b/ \b\b- \b\b\\ \b\b| \b\b/ \b\b- \b\b\\ \b\b| \b\b/ \b\b- \b\b\\ \b\b| \b\b/ \b\b- \b\b\\ \b\b| \b\b/ \b\b- \b\b\\ \b\b| \b\b/ \b\b- \b\b\\ \b\b| \b\b/ \b\b- \b\b\\ \b\b| \b\b/ \b\b- \b\b\\ \b\b| \b\b/ \b\b- \b\b\\ \b\b| \b\b/ \b\b- \b\b\\ \b\b| \b\b/ \b\b- \b\b\\ \b\b| \b\b/ \b\b- \b\b\\ \b\b| \b\b/ \b\b- \b\b\\ \b\b| \b\b/ \b\b- \b\b\\ \b\b| \b\b/ \b\b- \b\b\\ \b\b| \b\b/ \b\b- \b\b\\ \b\b| \b\b/ \b\b- \b\b\\ \b\b| \b\b/ \b\b- \b\b\\ \b\b| \b\b/ \b\b- \b\b\\ \b\b| \b\b/ \b\b- \b\b\\ \b\b| \b\b/ \b\b- \b\b\\ \b\b| \b\b/ \b\b- \b\b\\ \b\b| \b\b/ \b\b- \b\b\\ \b\b| \b\b/ \b\b- \b\b\\ \b\b| \b\b/ \b\b- \b\b\\ \b\b| \b\b/ \b\b- \b\b\\ \b\b| \b\b/ \b\b- \b\b\\ \b\b| \b\b/ \b\b- \b\b\\ \b\b| \b\b/ \b\b- \b\b\\ \b\b| \b\b/ \b\b- \b\b\\ \b\b| \b\b/ \b\b- \b\b\\ \b\b| \b\b/ \b\b- \b\b\\ \b\b| \b\b/ \b\b- \b\b\\ \b\b| \b\b/ \b\b- \b\b\\ \b\b| \b\b/ \b\b- \b\b\\ \b\b| \b\b/ \b\b- \b\b\\ \b\b| \b\b/ \b\b- \b\b\\ \b\b| \b\b/ \b\b- \b\b\\ \b\b| \b\b/ \b\b- \b\b\\ \b\b| \b\b/ \b\b- \b\b\\ \b\b| \b\b/ \b\b- \b\b\\ \b\b| \b\b/ \b\b- \b\b\\ \b\b| \b\b/ \b\b- \b\b\\ \b\b| \b\b/ \b\b- \b\b\\ \b\b| \b\b/ \b\b- \b\b\\ \b\b| \b\b/ \b\b- \b\b\\ \b\b| \b\b/ \b\b- \b\b\\ \b\b| \b\b/ \b\b- \b\b\\ \b\b| \b\b/ \b\b- \b\b\\ \b\b| \b\b/ \b\b- \b\b\\ \b\b| \b\b/ \b\b- \b\b\\ \b\b| \b\b/ \b\b- \b\b\\ \b\b| \b\b/ \b\b- \b\b\\ \b\b| \b\b/ \b\b- \b\b\\ \b\b| \b\b/ \b\b- \b\b\\ \b\b| \b\b/ \b\b- \b\b\\ \b\b| \b\b/ \b\b- \b\b\\ \b\b| \b\b/ \b\b- \b\b\\ \b\b| \b\b/ \b\b- \b\b\\ \b\b| \b\b/ \b\b- \b\b\\ \b\b| \b\b/ \b\b- \b\b\\ \b\b| \b\b/ \b\b- \b\b\\ \b\b| \b\b/ \b\b- \b\b\\ \b\b| \b\b/ \b\b- \b\b\\ \b\b| \b\b/ \b\b- \b\b\\ \b\b| \b\b/ \b\b- \b\b\\ \b\b| \b\b/ \b\b- \b\b\\ \b\b| \b\b/ \b\b- \b\b\\ \b\b| \b\b/ \b\b- \b\b\\ \b\b| \b\b/ \b\b- \b\b\\ \b\b| \b\b/ \b\b- \b\b\\ \b\b| \b\b/ \b\b- \b\b\\ \b\b| \b\b/ \b\b- \b\b\\ \b\b| \b\b/ \b\b- \b\b\\ \b\b| \b\b/ \b\b- \b\b\\ \b\b| \b\b/ \b\b- \b\b\\ \b\b| \b\b/ \b\b- \b\b\\ \b\b| \b\b/ \b\b- \b\b\\ \b\b| \b\b/ \b\b- \b\b\\ \b\b| \b\b/ \b\b- \b\b\\ \b\b| \b\b/ \b\b- \b\b\\ \b\b| \b\b/ \b\b- \b\b\\ \b\b| \b\b/ \b\b- \b\b\\ \b\b| \b\b/ \b\b- \b\b\\ \b\b| \b\b/ \b\b- \b\b\\ \b\b| \b\b/ \b\b- \b\b\\ \b\b| \b\b/ \b\b- \b\b\\ \b\b| \b\b/ \b\b- \b\b\\ \b\b| \b\b/ \b\b- \b\b\\ \b\b| \b\b/ \b\b- \b\b\\ \b\b| \b\b/ \b\b- \b\b\\ \b\b| \b\b/ \b\b- \b\b\\ \b\b| \b\b/ \b\b- \b\b\\ \b\b| \b\b/ \b\b- \b\b\\ \b\b| \b\b/ \b\b- \b\b\\ \b\b| \b\b/ \b\b- \b\b\\ \b\b| \b\b/ \b\b- \b\b\\ \b\b| \b\b/ \b\b- \b\b\\ \b\b| \b\b/ \b\b- \b\b\\ \b\b| \b\b/ \b\b- \b\b\\ \b\b| \b\b/ \b\b- \b\b\\ \b\b| \b\b/ \b\b- \b\b\\ \b\b| \b\b/ \b\b- \b\b\\ \b\b| \b\b/ \b\b- \b\b\\ \b\b| \b\b/ \b\b- \b\b\\ \b\b| \b\b/ \b\b- \b\b\\ \b\b| \b\b/ \b\b- \b\b\\ \b\b| \b\b/ \b\b- \b\b\\ \b\b| \b\b/ \b\b- \b\b\\ \b\b| \b\b/ \b\b- \b\b\\ \b\b| \b\b/ \b\b- \b\b\\ \b\b| \b\b/ \b\b- \b\b\\ \b\b| \b\b/ \b\b- \b\b\\ \b\b| \b\b/ \b\b- \b\b\\ \b\b| \b\b/ \b\b- \b\b\\ \b\b| \b\b/ \b\b- \b\b\\ \b\b| \b\b/ \b\b- \b\b\\ \b\b| \b\b/ \b\b- \b\b\\ \b\b| \b\b/ \b\b- \b\b\\ \b\b| \b\b/ \b\b- \b\bdone\n",
            "Solving environment: | \b\b/ \b\b- \b\b\\ \b\b| \b\b/ \b\b- \b\b\\ \b\b| \b\b/ \b\b- \b\b\\ \b\b| \b\b/ \b\b- \b\b\\ \b\b| \b\b/ \b\b- \b\b\\ \b\b| \b\b/ \b\bdone\n",
            "\n",
            "Downloading and Extracting Packages\n",
            "pixman-0.40.0        | 370 KB    | : 100% 1.0/1 [00:00<00:00,  1.91it/s]               \n",
            "ninja-1.10.2         | 2.4 MB    | : 100% 1.0/1 [00:00<00:00,  2.74it/s]\n",
            "gstreamer-1.14.0     | 3.1 MB    | : 100% 1.0/1 [00:00<00:00,  5.22it/s]\n",
            "tbb-2020.3           | 1.1 MB    | : 100% 1.0/1 [00:00<00:00,  7.48it/s]\n",
            "libgfortran4-7.5.0   | 995 KB    | : 100% 1.0/1 [00:00<00:00,  7.26it/s]\n",
            "freetype-2.10.4      | 596 KB    | : 100% 1.0/1 [00:00<00:00,  7.53it/s]\n",
            "sqlite-3.33.0        | 1.1 MB    | : 100% 1.0/1 [00:00<00:00,  6.74it/s]\n",
            "python_abi-3.7       | 4 KB      | : 100% 1.0/1 [00:00<00:00,  3.31it/s]\n",
            "torchvision-0.2.2    | 44 KB     | : 100% 1.0/1 [00:00<00:00, 24.58it/s]\n",
            "expat-2.4.1          | 168 KB    | : 100% 1.0/1 [00:00<00:00,  2.48it/s]\n",
            "libuv-1.41.0         | 1.0 MB    | : 100% 1.0/1 [00:00<00:00,  1.94it/s]\n",
            "pillow-8.2.0         | 622 KB    | : 100% 1.0/1 [00:00<00:00,  6.90it/s]\n",
            "readline-7.0         | 324 KB    | : 100% 1.0/1 [00:00<00:00,  7.95it/s]\n",
            "six-1.16.0           | 18 KB     | : 100% 1.0/1 [00:00<00:00,  8.21it/s]\n",
            "hdf5-1.10.2          | 3.8 MB    | : 100% 1.0/1 [00:00<00:00,  4.34it/s]\n",
            "libxcb-1.14          | 505 KB    | : 100% 1.0/1 [00:00<00:00,  1.61it/s]              \n",
            "glib-2.63.1          | 2.9 MB    | : 100% 1.0/1 [00:00<00:00,  4.39it/s]\n",
            "libtiff-4.2.0        | 502 KB    | : 100% 1.0/1 [00:00<00:00,  6.75it/s]\n",
            "pytorch-1.8.1        | 1.27 GB   | : 100% 1.0/1 [02:57<00:00, 177.62s/it]             \n",
            "ffmpeg-4.0           | 53.3 MB   | : 100% 1.0/1 [00:01<00:00,  1.29s/it]               \n",
            "pip-21.1.2           | 1.8 MB    | : 100% 1.0/1 [00:01<00:00,  1.53s/it]\n",
            "libuuid-1.0.3        | 15 KB     | : 100% 1.0/1 [00:00<00:00,  2.72it/s]\n",
            "libglu-9.0.0         | 271 KB    | : 100% 1.0/1 [00:00<00:00,  6.22it/s]\n",
            "joblib-1.0.1         | 208 KB    | : 100% 1.0/1 [00:00<00:00,  7.91it/s]\n",
            "torchaudio-0.8.1     | 4.4 MB    | : 100% 1.0/1 [00:01<00:00,  1.32s/it]\n",
            "intel-openmp-2021.2. | 1.3 MB    | : 100% 1.0/1 [00:00<00:00,  1.25it/s]\n",
            "pcre-8.44            | 212 KB    | : 100% 1.0/1 [00:00<00:00,  1.30it/s]\n",
            "cairo-1.14.12        | 906 KB    | : 100% 1.0/1 [00:00<00:00,  6.81it/s]\n",
            "ca-certificates-2021 | 112 KB    | : 100% 1.0/1 [00:00<00:00,  1.90it/s]\n",
            "numpy-1.20.2         | 23 KB     | : 100% 1.0/1 [00:00<00:00,  2.67it/s]\n",
            "libffi-3.2.1         | 48 KB     | : 100% 1.0/1 [00:00<00:00,  8.22it/s]\n",
            "natsort-7.1.1        | 33 KB     | : 100% 1.0/1 [00:00<00:00,  2.29it/s]\n",
            "pandas-1.2.4         | 8.5 MB    | : 100% 1.0/1 [00:02<00:00,  2.70s/it]\n",
            "py-opencv-3.4.2      | 1.0 MB    | : 100% 1.0/1 [00:00<00:00,  7.22it/s]\n",
            "libopus-1.3.1        | 491 KB    | : 100% 1.0/1 [00:00<00:00,  8.03it/s]\n",
            "wheel-0.36.2         | 33 KB     | : 100% 1.0/1 [00:00<00:00,  8.13it/s]\n",
            "lz4-c-1.9.3          | 186 KB    | : 100% 1.0/1 [00:00<00:00,  8.07it/s]\n",
            "libopencv-3.4.2      | 21.8 MB   | : 100% 1.0/1 [00:00<00:00,  1.39it/s]               \n",
            "tqdm-4.59.0          | 93 KB     | : 100% 1.0/1 [00:00<00:00,  2.33it/s]\n",
            "tk-8.6.10            | 3.0 MB    | : 100% 1.0/1 [00:00<00:00,  4.34it/s]\n",
            "pytz-2021.1          | 181 KB    | : 100% 1.0/1 [00:00<00:00,  6.41it/s]\n",
            "libvpx-1.7.0         | 1.2 MB    | : 100% 1.0/1 [00:00<00:00,  6.83it/s]\n",
            "jasper-2.0.14        | 707 KB    | : 100% 1.0/1 [00:00<00:00,  2.18it/s]\n",
            "mkl-2021.2.0         | 144.3 MB  | : 100% 1.0/1 [00:42<00:00, 42.73s/it]\n",
            "lcms2-2.12           | 312 KB    | : 100% 1.0/1 [00:00<00:00,  5.80it/s]\n",
            "openssl-1.1.1k       | 2.5 MB    | : 100% 1.0/1 [00:01<00:00,  1.38s/it]               \n",
            "olefile-0.46         | 32 KB     | : 100% 1.0/1 [00:00<00:00, 23.23it/s]\n",
            "ncurses-6.2          | 817 KB    | : 100% 1.0/1 [00:00<00:00,  3.39it/s]\n",
            "mkl-service-2.3.0    | 55 KB     | : 100% 1.0/1 [00:00<00:00,  2.33it/s]                \n",
            "kiwisolver-1.3.1     | 80 KB     | : 100% 1.0/1 [00:00<00:00,  2.51it/s]\n",
            "cycler-0.10.0        | 13 KB     | : 100% 1.0/1 [00:00<00:00,  2.72it/s]\n",
            "scipy-1.6.2          | 15.5 MB   | : 100% 1.0/1 [00:02<00:00,  2.70s/it]           \n",
            "scikit-learn-0.24.2  | 5.2 MB    | : 100% 1.0/1 [00:02<00:00,  2.78s/it]\n",
            "graphite2-1.3.14     | 99 KB     | : 100% 1.0/1 [00:00<00:00,  2.53it/s]\n",
            "gst-plugins-base-1.1 | 4.8 MB    | : 100% 1.0/1 [00:00<00:00,  4.08it/s]\n",
            "pycodestyle-2.7.0    | 41 KB     | : 100% 1.0/1 [00:00<00:00,  2.55it/s]\n",
            "harfbuzz-1.8.8       | 507 KB    | : 100% 1.0/1 [00:00<00:00,  7.38it/s]\n",
            "typing_extensions-3. | 28 KB     | : 100% 1.0/1 [00:00<00:00, 24.55it/s]\n",
            "numba-0.53.1         | 3.3 MB    | : 100% 1.0/1 [00:01<00:00,  1.91s/it]               \n",
            "libedit-3.1.20210216 | 167 KB    | : 100% 1.0/1 [00:01<00:00,  1.50s/it]\n",
            "python-3.7.1         | 31.9 MB   | : 100% 1.0/1 [00:00<00:00,  1.15it/s]               \n",
            "cudatoolkit-11.1.1   | 1.20 GB   | : 100% 1.0/1 [02:21<00:00, 141.56s/it]              \n",
            "freeglut-3.0.0       | 176 KB    | : 100% 1.0/1 [00:00<00:00,  7.10it/s]\n",
            "imageio-2.9.0        | 3.0 MB    | : 100% 1.0/1 [00:00<00:00,  7.14it/s]\n",
            "numpy-base-1.20.2    | 4.5 MB    | : 100% 1.0/1 [00:03<00:00,  3.90s/it]               \n",
            "zlib-1.2.11          | 103 KB    | : 100% 1.0/1 [00:00<00:00, 11.20it/s]\n",
            "libgfortran-ng-7.5.0 | 22 KB     | : 100% 1.0/1 [00:00<00:00, 11.72it/s]\n",
            "autopep8-1.5.7       | 43 KB     | : 100% 1.0/1 [00:00<00:00,  1.40it/s]               \n",
            "pyparsing-2.4.7      | 59 KB     | : 100% 1.0/1 [00:00<00:00, 22.49it/s]\n",
            "libwebp-base-1.2.0   | 437 KB    | : 100% 1.0/1 [00:00<00:00,  2.54it/s]\n",
            "_libgcc_mutex-0.1    | 2 KB      | : 100% 1.0/1 [00:00<00:00, 11.04it/s]\n",
            "llvmlite-0.36.0      | 391 KB    | : 100% 1.0/1 [00:00<00:00,  1.32it/s]               \n",
            "threadpoolctl-2.1.0  | 15 KB     | : 100% 1.0/1 [00:00<00:00,  3.04it/s]\n",
            "libxml2-2.9.10       | 1.2 MB    | : 100% 1.0/1 [00:00<00:00,  2.21it/s]\n",
            "configargparse-1.4   | 36 KB     | : 100% 1.0/1 [00:00<00:00,  2.93it/s]                \n",
            "jpeg-9b              | 214 KB    | : 100% 1.0/1 [00:00<00:00, 11.10it/s]\n",
            "resampy-0.2.2        | 332 KB    | : 100% 1.0/1 [00:00<00:00,  1.69it/s]               \n",
            "mkl_random-1.2.1     | 287 KB    | : 100% 1.0/1 [00:04<00:00,  4.01s/it]               \n",
            "python-dateutil-2.8. | 221 KB    | : 100% 1.0/1 [00:00<00:00, 22.13it/s]\n",
            "certifi-2021.5.30    | 139 KB    | : 100% 1.0/1 [00:00<00:00, 11.15it/s]\n",
            "matplotlib-3.3.4     | 26 KB     | : 100% 1.0/1 [00:00<00:00,  2.80it/s]               \n",
            "mkl_fft-1.3.0        | 170 KB    | : 100% 1.0/1 [00:00<00:00,  2.52it/s]                \n",
            "blas-1.0             | 1 KB      | : 100% 1.0/1 [00:00<00:00, 14.43it/s]\n",
            "setuptools-52.0.0    | 710 KB    | : 100% 1.0/1 [00:00<00:00,  7.65it/s]\n",
            "bzip2-1.0.8          | 78 KB     | : 100% 1.0/1 [00:00<00:00, 10.88it/s]\n",
            "matplotlib-base-3.3. | 5.1 MB    | : 100% 1.0/1 [00:01<00:00,  1.79s/it]\n",
            "opencv-3.4.2         | 11 KB     | : 100% 1.0/1 [00:00<00:00, 11.98it/s]\n",
            "zstd-1.4.9           | 480 KB    | : 100% 1.0/1 [00:00<00:00, 10.18it/s]\n",
            "Preparing transaction: \\ \b\b| \b\b/ \b\b- \b\b\\ \b\b| \b\b/ \b\b- \b\b\\ \b\b| \b\b/ \b\b- \b\b\\ \b\b| \b\b/ \b\b- \b\bdone\n",
            "Verifying transaction: | \b\b/ \b\b- \b\b\\ \b\b| \b\b/ \b\b- \b\b\\ \b\b| \b\b/ \b\b- \b\b\\ \b\b| \b\b/ \b\b- \b\b\\ \b\b| \b\b/ \b\b- \b\b\\ \b\b| \b\b/ \b\b- \b\b\\ \b\b| \b\b/ \b\b- \b\b\\ \b\b| \b\b/ \b\b- \b\b\\ \b\b| \b\b/ \b\b- \b\b\\ \b\b| \b\b/ \b\b- \b\b\\ \b\b| \b\b/ \b\b- \b\b\\ \b\b| \b\b/ \b\b- \b\b\\ \b\b| \b\b/ \b\b- \b\b\\ \b\b| \b\b/ \b\b- \b\b\\ \b\b| \b\b/ \b\bdone\n",
            "Executing transaction: \\ \b\b| \b\b/ \b\b- \b\b\\ \b\b| \b\b/ \b\b- \b\b\\ \b\b| \b\b/ \b\b- \b\b\\ \b\b| \b\b/ \b\b- \b\b\\ \b\b| \b\b/ \b\b- \b\b\\ \b\b| \b\b/ \b\b- \b\b\\ \b\b| \b\b/ \b\b- \b\b\\ \b\b| \b\b/ \b\b- \b\b\\ By downloading and using the CUDA Toolkit conda packages, you accept the terms and conditions of the CUDA End User License Agreement (EULA): https://docs.nvidia.com/cuda/eula/index.html\n",
            "\n",
            "\b\b| \b\b/ \b\b- \b\b\\ \b\b| \b\b/ \b\b- \b\b\\ \b\b| \b\b/ \n",
            "\n",
            "    Installed package of scikit-learn can be accelerated using scikit-learn-intelex.\n",
            "    More details are available here: https://intel.github.io/scikit-learn-intelex\n",
            "\n",
            "    For example:\n",
            "\n",
            "        $ conda install scikit-learn-intelex\n",
            "        $ python -m sklearnex my_application.py\n",
            "\n",
            "    \n",
            "\n",
            "\b\b- \b\b\\ \b\b| \b\b/ \b\b- \b\b\\ \b\b| \b\b/ \b\b- \b\b\\ \b\b| \b\b/ \b\b- \b\b\\ \b\b| \b\b/ \b\b- \b\b\\ \b\b| \b\b/ \b\b- \b\b\\ \b\b| \b\b/ \b\b- \b\b\\ \b\b| \b\b/ \b\b- \b\b\\ \b\bdone\n",
            "Installing pip dependencies: / \b\b- \b\b\\ \b\b| \b\b/ \b\b- \b\b\\ \b\b| \b\b/ \b\b- \b\b\\ \b\b| \b\b/ \b\b- \b\b\\ \b\b| \b\b/ \b\b- \b\b\\ \b\b| \b\b/ \b\b- \b\b\\ \b\b| \b\b/ \b\b- \b\b\\ \b\b| \b\b/ \b\b- \b\b\\ \b\b| \b\b/ \b\b- \b\b\\ \b\b| \b\b/ \b\b- \b\b\\ \b\b| \b\b/ \b\b- \b\b\\ \b\b| \b\b/ \b\b- \b\b\\ \b\b| \b\b/ \b\b- \b\b\\ \b\b| \b\b/ \b\b- \b\b\\ \b\b| \b\b/ \b\b- \b\b\\ \b\b| \b\b/ \b\b- \b\b\\ \b\b| \b\b/ \b\b- \b\b\\ \b\b| \b\b/ \b\b- \b\b\\ \b\b| \b\b/ \b\b- \b\b\\ \b\b| \b\b/ \b\b- \b\b\\ \b\b| \b\b/ \b\b- \b\b\\ \b\b| \b\b/ \b\b- \b\b\\ \b\b| \b\b/ \b\b- \b\b\\ \b\b| \b\b/ \b\b- \b\b\\ \b\b| \b\b/ \b\b- \b\b\\ \b\b| \b\b/ \b\b- \b\b\\ \b\b| \b\b/ \b\b- \b\b\\ \b\b| \b\b/ \b\b- \b\b\\ \b\b| \b\b/ \b\b- \b\b\\ \b\b| \b\b/ \b\b- \b\b\\ \b\b| \b\b/ \b\b- \b\b\\ \b\b| \b\b/ \b\b- \b\b\\ \b\b| \b\b/ \b\b- \b\b\\ \b\b| \b\b/ \b\b- \b\b\\ \b\b| \b\b/ \b\b- \b\b\\ \b\b| \b\b/ \b\b- \b\b\\ \b\b| \b\b/ \b\b- \b\b\\ \b\b| \b\b/ \b\b- \b\b\\ \b\b| \b\b/ \b\b- \b\b\\ \b\b| \b\b/ \b\b- \b\b\\ \b\b| \b\b/ \b\b- \b\b\\ \b\b| \b\b/ \b\b- \b\b\\ \b\b| \b\b/ \b\b- \b\b\\ \b\b| \b\b/ \b\b- \b\b\\ \b\b| \b\b/ \b\b- \b\b\\ \b\b| \b\b/ \b\b- \b\b\\ \b\b| \b\b/ \b\b- \b\b\\ \b\b| \b\b/ \b\b- \b\b\\ \b\b| \b\b/ \b\b- \b\b\\ \b\b| \b\b/ \b\b- \b\b\\ \b\b| \b\b/ \b\b- \b\b\\ \b\b| \b\b/ \b\b- \b\b\\ \b\b| \b\b/ \b\b- \b\b\\ \b\b| \b\b/ \b\b- \b\b\\ \b\b| \b\b/ \b\b- \b\b\\ \b\b| \b\b/ \b\b- \b\b\\ \b\b| \b\b/ \b\b- \b\b\\ \b\b| \b\b/ \b\b- \b\b\\ \b\b| \b\b/ \b\b- \b\b\\ \b\b| \b\b/ \b\b- \b\b\\ \b\b| \b\b/ \b\b- \b\b\\ \b\b| \b\b/ \b\b- \b\b\\ \b\b| \b\b/ \b\b- \b\b\\ \b\b| \b\b/ \b\b- \b\b\\ \b\b| \b\b/ \b\b- \b\b\\ \b\b| \b\b/ \b\b- \b\b\\ \b\b| \b\b/ \b\b- \b\b\\ \b\b| \b\b/ \b\b- \b\b\\ \b\b| \b\b/ \b\b- \b\b\\ \b\b| \b\b/ \b\b- \b\b\\ \b\b| \b\b/ \b\b- \b\b\\ \b\b| \b\b/ \b\b- \b\b\\ \b\b| \b\b/ \b\b- \b\b\\ \b\b| \b\b/ \b\b- \b\b\\ \b\b| \b\b/ \b\b- \b\b\\ \b\b| \b\b/ \b\b- \b\b\\ \b\b| \b\b/ \b\b- \b\b\\ \b\b| \b\b/ \b\b- \b\b\\ \b\b| \b\b/ \b\b- \b\b\\ \b\b| \b\b/ \b\b- \b\b\\ \b\b| \b\b/ \b\b- \b\b\\ \b\b| \b\b/ \b\b- \b\b\\ \b\b| \b\b/ \b\b- \b\b\\ \b\b| \b\b/ \b\b- \b\b\\ \b\b| \b\b/ \b\b- \b\b\\ \b\b| \b\b/ \b\b- \b\b\\ \b\b| \b\b/ \b\b- \b\b\\ \b\b| \b\b/ \b\b- \b\b\\ \b\b| \b\b/ \b\b- \b\b\\ \b\b| \b\b/ \b\b- \b\b\\ \b\b| \b\b/ \b\b- \b\b\\ \b\b| \b\b/ \b\b- \b\b\\ \b\b| \b\b/ \b\b- \b\b\\ \b\b| \b\b/ \b\b- \b\b\\ \b\b| \b\b/ \b\b- \b\b\\ \b\b| \b\b/ \b\b- \b\b\\ \b\b| \b\b/ \b\b- \b\b\\ \b\b| \b\b/ \b\b- \b\b\\ \b\b| \b\b/ \b\b- \b\b\\ \b\b| \b\b/ \b\b- \b\b\\ \b\b| \b\b/ \b\b- \b\b\\ \b\b| \b\b/ \b\b- \b\b\\ \b\b| \b\b/ \b\b- \b\b\\ \b\b| \b\b/ \b\b- \b\b\\ \b\b| \b\b/ \b\b- \b\b\\ \b\b| \b\b/ \b\b- \b\b\\ \b\b| \b\b/ \b\b- \b\b\\ \b\b| \b\b/ \b\b- \b\b\\ \b\b| \b\b/ \b\b- \b\b\\ \b\b| \b\b/ \b\b- \b\b\\ \b\b| \b\b/ \b\b- \b\b\\ \b\b| \b\b/ \b\b- \b\b\\ \b\b| \b\b/ \b\b- \b\b\\ \b\b| \b\b/ \b\b- \b\b\\ \b\b| \b\b/ \b\b- \b\b\\ \b\b| \b\b/ \b\b- \b\b\\ \b\b| \b\b/ \b\b- \b\b\\ \b\b| \b\b/ \b\b- \b\b\\ \b\b| \b\b/ \b\b- \b\b\\ \b\b| \b\b/ \b\b- \b\b\\ \b\b| \b\b/ \b\b- \b\b\\ \b\b| \b\b/ \b\b- \b\b\\ \b\b| \b\b/ \b\b- \b\b\\ \b\b| \b\b/ \b\b- \b\b\\ \b\b| \b\b/ \b\b- \b\b\\ \b\b| \b\b/ \b\b- \b\b\\ \b\b| \b\b/ \b\b- \b\b\\ \b\b| \b\b/ \b\b- \b\b\\ \b\b| \b\b/ \b\b- \b\b\\ \b\b| \b\b/ \b\b- \b\b\\ \b\b| \b\b/ \b\b- \b\b\\ \b\b| \b\b/ \b\b- \b\b\\ \b\b| \b\b/ \b\b- \b\b\\ \b\b| \b\b/ \b\b- \b\b\\ \b\b| \b\b/ \b\b- \b\b\\ \b\b| \b\b/ \b\b- \b\b\\ \b\b| \b\b/ \b\b- \b\b\\ \b\b| \b\b/ \b\b- \b\b\\ \b\b| \b\b/ \b\b- \b\b\\ Ran pip subprocess with arguments:\n",
            "['/usr/local/envs/adnerf/bin/python', '-m', 'pip', 'install', '-U', '-r', '/content/AD-NeRF/condaenv.nzskskbf.requirements.txt']\n",
            "Pip subprocess output:\n",
            "Looking in indexes: https://pypi.org/simple, https://us-python.pkg.dev/colab-wheels/public/simple/\n",
            "Collecting absl-py==0.13.0\n",
            "  Downloading absl_py-0.13.0-py3-none-any.whl (132 kB)\n",
            "Collecting astor==0.8.1\n",
            "  Downloading astor-0.8.1-py2.py3-none-any.whl (27 kB)\n",
            "Collecting audio2numpy==0.1.2\n",
            "  Downloading audio2numpy-0.1.2-py3-none-any.whl (10 kB)\n",
            "Collecting cached-property==1.5.2\n",
            "  Downloading cached_property-1.5.2-py2.py3-none-any.whl (7.6 kB)\n",
            "Collecting chardet==4.0.0\n",
            "  Downloading chardet-4.0.0-py2.py3-none-any.whl (178 kB)\n",
            "Collecting decorator==4.4.2\n",
            "  Downloading decorator-4.4.2-py2.py3-none-any.whl (9.2 kB)\n",
            "Collecting face-alignment==1.3.4\n",
            "  Downloading face_alignment-1.3.4.tar.gz (26 kB)\n",
            "Collecting fvcore==0.1.5.post20210617\n",
            "  Downloading fvcore-0.1.5.post20210617.tar.gz (49 kB)\n",
            "Collecting gast==0.2.2\n",
            "  Downloading gast-0.2.2.tar.gz (10 kB)\n",
            "Collecting google-pasta==0.2.0\n",
            "  Downloading google_pasta-0.2.0-py3-none-any.whl (57 kB)\n",
            "Collecting grpcio==1.38.0\n",
            "  Downloading grpcio-1.38.0-cp37-cp37m-manylinux2014_x86_64.whl (4.2 MB)\n",
            "Collecting h5py==3.2.1\n",
            "  Downloading h5py-3.2.1-cp37-cp37m-manylinux1_x86_64.whl (4.1 MB)\n",
            "Collecting idna==2.10\n",
            "  Downloading idna-2.10-py2.py3-none-any.whl (58 kB)\n",
            "Collecting importlib-metadata==4.5.0\n",
            "  Downloading importlib_metadata-4.5.0-py3-none-any.whl (17 kB)\n",
            "Collecting iopath==0.1.8\n",
            "  Downloading iopath-0.1.8-py3-none-any.whl (19 kB)\n",
            "Collecting keras-applications==1.0.8\n",
            "  Downloading Keras_Applications-1.0.8-py3-none-any.whl (50 kB)\n",
            "Collecting keras-preprocessing==1.1.2\n",
            "  Downloading Keras_Preprocessing-1.1.2-py2.py3-none-any.whl (42 kB)\n",
            "Collecting markdown==3.3.4\n",
            "  Downloading Markdown-3.3.4-py3-none-any.whl (97 kB)\n",
            "Collecting networkx==2.5.1\n",
            "  Downloading networkx-2.5.1-py3-none-any.whl (1.6 MB)\n",
            "Collecting opencv-python==4.5.2.54\n",
            "  Downloading opencv_python-4.5.2.54-cp37-cp37m-manylinux2014_x86_64.whl (51.0 MB)\n",
            "Collecting opt-einsum==3.3.0\n",
            "  Downloading opt_einsum-3.3.0-py3-none-any.whl (65 kB)\n",
            "Collecting portalocker==2.3.0\n",
            "  Downloading portalocker-2.3.0-py2.py3-none-any.whl (15 kB)\n",
            "Collecting protobuf==3.17.3\n",
            "  Downloading protobuf-3.17.3-cp37-cp37m-manylinux_2_5_x86_64.manylinux1_x86_64.whl (1.0 MB)\n",
            "Collecting python-speech-features==0.6\n",
            "  Downloading python_speech_features-0.6.tar.gz (5.6 kB)\n",
            "Collecting pywavelets==1.1.1\n",
            "  Downloading PyWavelets-1.1.1-cp37-cp37m-manylinux1_x86_64.whl (4.4 MB)\n",
            "Collecting pyyaml==5.4.1\n",
            "  Downloading PyYAML-5.4.1-cp37-cp37m-manylinux1_x86_64.whl (636 kB)\n",
            "Collecting requests==2.25.1\n",
            "  Downloading requests-2.25.1-py2.py3-none-any.whl (61 kB)\n",
            "Collecting scikit-image==0.18.1\n",
            "  Downloading scikit_image-0.18.1-cp37-cp37m-manylinux1_x86_64.whl (29.2 MB)\n",
            "Collecting tabulate==0.8.9\n",
            "  Downloading tabulate-0.8.9-py3-none-any.whl (25 kB)\n",
            "Collecting tensorboard==1.15.0\n",
            "  Downloading tensorboard-1.15.0-py3-none-any.whl (3.8 MB)\n",
            "Collecting tensorflow-estimator==1.15.1\n",
            "  Downloading tensorflow_estimator-1.15.1-py2.py3-none-any.whl (503 kB)\n",
            "Collecting tensorflow-gpu==1.15.2\n",
            "  Downloading tensorflow_gpu-1.15.2-cp37-cp37m-manylinux2010_x86_64.whl (410.9 MB)\n",
            "Collecting termcolor==1.1.0\n",
            "  Downloading termcolor-1.1.0.tar.gz (3.9 kB)\n",
            "Collecting tifffile==2021.6.14\n",
            "  Downloading tifffile-2021.6.14-py3-none-any.whl (169 kB)\n",
            "Collecting urllib3==1.26.5\n",
            "  Downloading urllib3-1.26.5-py2.py3-none-any.whl (138 kB)\n",
            "Collecting werkzeug==2.0.1\n",
            "  Downloading Werkzeug-2.0.1-py3-none-any.whl (288 kB)\n",
            "Collecting wrapt==1.12.1\n",
            "  Downloading wrapt-1.12.1.tar.gz (27 kB)\n",
            "Collecting yacs==0.1.8\n",
            "  Downloading yacs-0.1.8-py3-none-any.whl (14 kB)\n",
            "Collecting zipp==3.4.1\n",
            "  Downloading zipp-3.4.1-py3-none-any.whl (5.2 kB)\n",
            "Requirement already satisfied: six in /usr/local/envs/adnerf/lib/python3.7/site-packages (from absl-py==0.13.0->-r /content/AD-NeRF/condaenv.nzskskbf.requirements.txt (line 1)) (1.16.0)\n",
            "Collecting ffmpeg\n",
            "  Downloading ffmpeg-1.4.tar.gz (5.1 kB)\n",
            "Requirement already satisfied: numpy in /usr/local/envs/adnerf/lib/python3.7/site-packages (from audio2numpy==0.1.2->-r /content/AD-NeRF/condaenv.nzskskbf.requirements.txt (line 3)) (1.20.2)\n",
            "Requirement already satisfied: torch in /usr/local/envs/adnerf/lib/python3.7/site-packages (from face-alignment==1.3.4->-r /content/AD-NeRF/condaenv.nzskskbf.requirements.txt (line 7)) (1.8.1)\n",
            "Requirement already satisfied: scipy>=0.17 in /usr/local/envs/adnerf/lib/python3.7/site-packages (from face-alignment==1.3.4->-r /content/AD-NeRF/condaenv.nzskskbf.requirements.txt (line 7)) (1.6.2)\n",
            "Requirement already satisfied: tqdm in /usr/local/envs/adnerf/lib/python3.7/site-packages (from face-alignment==1.3.4->-r /content/AD-NeRF/condaenv.nzskskbf.requirements.txt (line 7)) (4.59.0)\n",
            "Requirement already satisfied: numba in /usr/local/envs/adnerf/lib/python3.7/site-packages (from face-alignment==1.3.4->-r /content/AD-NeRF/condaenv.nzskskbf.requirements.txt (line 7)) (0.53.1)\n",
            "Requirement already satisfied: Pillow in /usr/local/envs/adnerf/lib/python3.7/site-packages (from fvcore==0.1.5.post20210617->-r /content/AD-NeRF/condaenv.nzskskbf.requirements.txt (line 8)) (8.2.0)\n",
            "Requirement already satisfied: typing-extensions>=3.6.4 in /usr/local/envs/adnerf/lib/python3.7/site-packages (from importlib-metadata==4.5.0->-r /content/AD-NeRF/condaenv.nzskskbf.requirements.txt (line 14)) (3.10.0.0)\n",
            "Requirement already satisfied: certifi>=2017.4.17 in /usr/local/envs/adnerf/lib/python3.7/site-packages (from requests==2.25.1->-r /content/AD-NeRF/condaenv.nzskskbf.requirements.txt (line 27)) (2021.5.30)\n",
            "Requirement already satisfied: matplotlib!=3.0.0,>=2.0.0 in /usr/local/envs/adnerf/lib/python3.7/site-packages (from scikit-image==0.18.1->-r /content/AD-NeRF/condaenv.nzskskbf.requirements.txt (line 28)) (3.3.4)\n",
            "Requirement already satisfied: imageio>=2.3.0 in /usr/local/envs/adnerf/lib/python3.7/site-packages (from scikit-image==0.18.1->-r /content/AD-NeRF/condaenv.nzskskbf.requirements.txt (line 28)) (2.9.0)\n",
            "Requirement already satisfied: setuptools>=41.0.0 in /usr/local/envs/adnerf/lib/python3.7/site-packages (from tensorboard==1.15.0->-r /content/AD-NeRF/condaenv.nzskskbf.requirements.txt (line 30)) (52.0.0.post20210125)\n",
            "Requirement already satisfied: wheel>=0.26 in /usr/local/envs/adnerf/lib/python3.7/site-packages (from tensorboard==1.15.0->-r /content/AD-NeRF/condaenv.nzskskbf.requirements.txt (line 30)) (0.36.2)\n",
            "Requirement already satisfied: cycler>=0.10 in /usr/local/envs/adnerf/lib/python3.7/site-packages (from matplotlib!=3.0.0,>=2.0.0->scikit-image==0.18.1->-r /content/AD-NeRF/condaenv.nzskskbf.requirements.txt (line 28)) (0.10.0)\n",
            "Requirement already satisfied: kiwisolver>=1.0.1 in /usr/local/envs/adnerf/lib/python3.7/site-packages (from matplotlib!=3.0.0,>=2.0.0->scikit-image==0.18.1->-r /content/AD-NeRF/condaenv.nzskskbf.requirements.txt (line 28)) (1.3.1)\n",
            "Requirement already satisfied: python-dateutil>=2.1 in /usr/local/envs/adnerf/lib/python3.7/site-packages (from matplotlib!=3.0.0,>=2.0.0->scikit-image==0.18.1->-r /content/AD-NeRF/condaenv.nzskskbf.requirements.txt (line 28)) (2.8.1)\n",
            "Requirement already satisfied: pyparsing!=2.0.4,!=2.1.2,!=2.1.6,>=2.0.3 in /usr/local/envs/adnerf/lib/python3.7/site-packages (from matplotlib!=3.0.0,>=2.0.0->scikit-image==0.18.1->-r /content/AD-NeRF/condaenv.nzskskbf.requirements.txt (line 28)) (2.4.7)\n",
            "Requirement already satisfied: llvmlite<0.37,>=0.36.0rc1 in /usr/local/envs/adnerf/lib/python3.7/site-packages (from numba->face-alignment==1.3.4->-r /content/AD-NeRF/condaenv.nzskskbf.requirements.txt (line 7)) (0.36.0)\n",
            "Building wheels for collected packages: face-alignment, fvcore, gast, python-speech-features, termcolor, wrapt, ffmpeg\n",
            "  Building wheel for face-alignment (setup.py): started\n",
            "  Building wheel for face-alignment (setup.py): finished with status 'done'\n",
            "  Created wheel for face-alignment: filename=face_alignment-1.3.4-py2.py3-none-any.whl size=27859 sha256=430755a597ffc95eb84b6258568e45604d9d2b4151c13360b42de016b73e0876\n",
            "  Stored in directory: /root/.cache/pip/wheels/73/f8/8f/617fca0e22aa1dc6b5fbfad78b07fa7626707b49167eea901c\n",
            "  Building wheel for fvcore (setup.py): started\n",
            "  Building wheel for fvcore (setup.py): finished with status 'done'\n",
            "  Created wheel for fvcore: filename=fvcore-0.1.5.post20210617-py3-none-any.whl size=60460 sha256=a842763a512beb5771a4a6fb3526e82bf63ef29ad11832f35ef99e956a3a3f2d\n",
            "  Stored in directory: /root/.cache/pip/wheels/79/89/7b/1ed48161e8ea93272d91194c5ccdb40b18d779c719854ea880\n",
            "  Building wheel for gast (setup.py): started\n",
            "  Building wheel for gast (setup.py): finished with status 'done'\n",
            "  Created wheel for gast: filename=gast-0.2.2-py3-none-any.whl size=7538 sha256=9aeec46627cd1a926f6bf742fa51de84d1fd121fc793a0476b7e5aca08bfbf8f\n",
            "  Stored in directory: /root/.cache/pip/wheels/21/7f/02/420f32a803f7d0967b48dd823da3f558c5166991bfd204eef3\n",
            "  Building wheel for python-speech-features (setup.py): started\n",
            "  Building wheel for python-speech-features (setup.py): finished with status 'done'\n",
            "  Created wheel for python-speech-features: filename=python_speech_features-0.6-py3-none-any.whl size=5887 sha256=38591d9c3bf3840748c90db50f20589d7f888f5573d3bff2f441355e8c190002\n",
            "  Stored in directory: /root/.cache/pip/wheels/b0/0e/94/28cd6afa3cd5998a63eef99fe31777acd7d758f59cf24839eb\n",
            "  Building wheel for termcolor (setup.py): started\n",
            "  Building wheel for termcolor (setup.py): finished with status 'done'\n",
            "  Created wheel for termcolor: filename=termcolor-1.1.0-py3-none-any.whl size=4829 sha256=7afdbf948220860b6b2a3a01f53ecb4dea13a150ce603bf81392d8bd9fa25ae1\n",
            "  Stored in directory: /root/.cache/pip/wheels/3f/e3/ec/8a8336ff196023622fbcb36de0c5a5c218cbb24111d1d4c7f2\n",
            "  Building wheel for wrapt (setup.py): started\n",
            "  Building wheel for wrapt (setup.py): finished with status 'done'\n",
            "  Created wheel for wrapt: filename=wrapt-1.12.1-cp37-cp37m-linux_x86_64.whl size=70992 sha256=a70ecd5821cd416ab8e1a7c3432e1d688df4a18652337c39232b12d84b6f7486\n",
            "  Stored in directory: /root/.cache/pip/wheels/62/76/4c/aa25851149f3f6d9785f6c869387ad82b3fd37582fa8147ac6\n",
            "  Building wheel for ffmpeg (setup.py): started\n",
            "  Building wheel for ffmpeg (setup.py): finished with status 'done'\n",
            "  Created wheel for ffmpeg: filename=ffmpeg-1.4-py3-none-any.whl size=6083 sha256=05145af09442868516a8f873e66391ec78d50f641a0fbe4499b03f6850d63964\n",
            "  Stored in directory: /root/.cache/pip/wheels/64/80/6e/caa3e16deb0267c3cbfd36862058a724144e19fdb9eb03af0f\n",
            "Successfully built face-alignment fvcore gast python-speech-features termcolor wrapt ffmpeg\n",
            "Installing collected packages: zipp, importlib-metadata, decorator, cached-property, werkzeug, tifffile, pyyaml, pywavelets, protobuf, portalocker, networkx, markdown, h5py, grpcio, absl-py, yacs, wrapt, urllib3, termcolor, tensorflow-estimator, tensorboard, tabulate, scikit-image, opt-einsum, opencv-python, keras-preprocessing, keras-applications, iopath, idna, google-pasta, gast, ffmpeg, chardet, astor, tensorflow-gpu, requests, python-speech-features, fvcore, face-alignment, audio2numpy\n",
            "Successfully installed absl-py-0.13.0 astor-0.8.1 audio2numpy-0.1.2 cached-property-1.5.2 chardet-4.0.0 decorator-4.4.2 face-alignment-1.3.4 ffmpeg-1.4 fvcore-0.1.5.post20210617 gast-0.2.2 google-pasta-0.2.0 grpcio-1.38.0 h5py-3.2.1 idna-2.10 importlib-metadata-4.5.0 iopath-0.1.8 keras-applications-1.0.8 keras-preprocessing-1.1.2 markdown-3.3.4 networkx-2.5.1 opencv-python-4.5.2.54 opt-einsum-3.3.0 portalocker-2.3.0 protobuf-3.17.3 python-speech-features-0.6 pywavelets-1.1.1 pyyaml-5.4.1 requests-2.25.1 scikit-image-0.18.1 tabulate-0.8.9 tensorboard-1.15.0 tensorflow-estimator-1.15.1 tensorflow-gpu-1.15.2 termcolor-1.1.0 tifffile-2021.6.14 urllib3-1.26.5 werkzeug-2.0.1 wrapt-1.12.1 yacs-0.1.8 zipp-3.4.1\n",
            "\n",
            "\b\bdone\n",
            "#\n",
            "# To activate this environment, use\n",
            "#\n",
            "#     $ conda activate adnerf\n",
            "#\n",
            "# To deactivate an active environment, use\n",
            "#\n",
            "#     $ conda deactivate\n",
            "\n",
            "Retrieving notices: ...working... done\n"
          ]
        }
      ]
    },
    {
      "cell_type": "code",
      "source": [
        "!exit\n",
        "!conda info --envs"
      ],
      "metadata": {
        "id": "aJ7WHJGApq0Z"
      },
      "execution_count": null,
      "outputs": []
    },
    {
      "cell_type": "code",
      "source": [
        "# ALL BELOW CODE NEEDS TO BE RUN IN THE TERMINAL UNDER adnerf env"
      ],
      "metadata": {
        "id": "fn5JZa5au0fA"
      },
      "execution_count": null,
      "outputs": []
    },
    {
      "cell_type": "code",
      "source": [
        "%cd /content/AD-NeRF/\n",
        "!conda activate adnerf"
      ],
      "metadata": {
        "id": "6QTGA7u-t-kL"
      },
      "execution_count": null,
      "outputs": []
    },
    {
      "cell_type": "code",
      "source": [
        "!wget -o https://github.com/facebookresearch/pytorch3d/archive/refs/tags/v0.5.0.tar.gz\n",
        "!tar -xf v0.5.0.tar.gz \n",
        "!cd ./pytorch3d-0.5.0\n",
        "!pip install -e ."
      ],
      "metadata": {
        "id": "Ydd6NGhRuYup"
      },
      "execution_count": null,
      "outputs": []
    },
    {
      "cell_type": "code",
      "source": [
        "!sudo conda install -c fvcore -c iopath -c conda-forge fvcore iopath\n",
        "!sudo conda install -c bottler nvidiacub"
      ],
      "metadata": {
        "id": "PKNpApMjf9hI"
      },
      "execution_count": null,
      "outputs": []
    },
    {
      "cell_type": "code",
      "source": [
        "# copy Basel Face Model 2009\n",
        "\n",
        "%cd /content/AD-NeRF/data_util/face_tracking/3DMM/\n",
        "!cp /content/drive/MyDrive/AI/BaselFaceModels/2009/01_MorphableModel.mat ./"
      ],
      "metadata": {
        "id": "9wpqkSRmTC50"
      },
      "execution_count": null,
      "outputs": []
    },
    {
      "cell_type": "code",
      "source": [
        "%cd /content/AD-NeRF/data_util/face_tracking/\n",
        "!python convert_BFM.py"
      ],
      "metadata": {
        "id": "OJemNJAZTP8y"
      },
      "execution_count": null,
      "outputs": []
    },
    {
      "cell_type": "code",
      "source": [
        "# Data Preprocess ($id Obama for example)\n",
        "# Input: A portrait video at 25fps containing voice audio. (dataset/vids/$id.mp4)\n",
        "# Output: folder dataset/$id that contains all files for training\n",
        "%cd /content/AD-NeRF/\n",
        "!bash process_data.sh Obama"
      ],
      "metadata": {
        "id": "kzx_iB0uTn0t"
      },
      "execution_count": null,
      "outputs": []
    },
    {
      "cell_type": "code",
      "source": [
        "%cd /content/AD-NeRF/\n",
        "!bash run.sh Obama"
      ],
      "metadata": {
        "id": "pgAiK9mM6SYH"
      },
      "execution_count": null,
      "outputs": []
    }
  ]
}